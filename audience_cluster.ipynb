{
 "cells": [
  {
   "cell_type": "markdown",
   "id": "0cc4eede",
   "metadata": {},
   "source": [
    "# Import Libraries"
   ]
  },
  {
   "cell_type": "code",
   "execution_count": 35,
   "id": "8bb1ce73",
   "metadata": {},
   "outputs": [],
   "source": [
    "# Core\n",
    "import numpy as np\n",
    "import pandas as pd\n",
    "from pathlib import Path\n",
    "import warnings, logging, math, json, gc\n",
    "from typing import List, Dict, Tuple\n",
    "\n",
    "# Visualization\n",
    "import matplotlib.pyplot as plt\n",
    "\n",
    "# ML & preprocessing\n",
    "from sklearn.preprocessing import StandardScaler, normalize\n",
    "from sklearn.impute import SimpleImputer\n",
    "from sklearn.decomposition import PCA\n",
    "from sklearn.cluster import KMeans, MiniBatchKMeans\n",
    "from sklearn.pipeline import Pipeline\n",
    "from sklearn.metrics import silhouette_score\n",
    "\n",
    "# Utilities\n",
    "from tqdm.auto import tqdm\n"
   ]
  },
  {
   "cell_type": "markdown",
   "id": "d807f9d8",
   "metadata": {},
   "source": [
    "# Import Dataset from Kaggle"
   ]
  },
  {
   "cell_type": "code",
   "execution_count": 36,
   "id": "51bbf3b7",
   "metadata": {},
   "outputs": [
    {
     "name": "stdout",
     "output_type": "stream",
     "text": [
      "Path to dataset files: /Users/khanhvyho/.cache/kagglehub/datasets/rounakbanik/the-movies-dataset/versions/7\n"
     ]
    }
   ],
   "source": [
    "import kagglehub\n",
    "\n",
    "# Download latest version\n",
    "path = kagglehub.dataset_download(\"rounakbanik/the-movies-dataset\")\n",
    "\n",
    "print(\"Path to dataset files:\", path)"
   ]
  },
  {
   "cell_type": "code",
   "execution_count": 37,
   "id": "04d67ece",
   "metadata": {},
   "outputs": [
    {
     "name": "stderr",
     "output_type": "stream",
     "text": [
      "/var/folders/4q/f7mc1yk54dl9_0pq9f41x_840000gn/T/ipykernel_27049/3712168527.py:4: DtypeWarning: Columns (10) have mixed types. Specify dtype option on import or set low_memory=False.\n",
      "  movies = pd.read_csv(DATA_DIR / \"movies_metadata.csv\") # dataset 1: movies\n"
     ]
    }
   ],
   "source": [
    "from pathlib import Path\n",
    "\n",
    "DATA_DIR = Path(path)  \n",
    "movies = pd.read_csv(DATA_DIR / \"movies_metadata.csv\") # dataset 1: movies\n",
    "ratings = pd.read_csv(DATA_DIR / \"ratings.csv\")        # dataset 2: ratings\n"
   ]
  },
  {
   "cell_type": "markdown",
   "id": "edb081e3",
   "metadata": {},
   "source": [
    "# Data Wrangling and Exploration"
   ]
  },
  {
   "cell_type": "markdown",
   "id": "ddb62333",
   "metadata": {},
   "source": [
    "## Step 1: Clean the \"movies\" dataset\n",
    "In the movies dataset, the \"genres\" column is the variable of interest. Each movie can belong to more than one genre - for example, Toy Story (1995) is classified under Animation, Comedy, and Family. \n",
    "- The genre values are not clean now; for example, Toy Story's genre appears as \"[{'id': 16, 'name': 'Animation'}, {'id': 35, 'name': 'Comedy'}, {'id': 10751, 'name': 'Family'}]\". \n",
    "- Our goal in this step is to extract and clean them into the format [Animation, Comedy, Family]."
   ]
  },
  {
   "cell_type": "code",
   "execution_count": 38,
   "id": "66d51212",
   "metadata": {},
   "outputs": [],
   "source": [
    "import pandas as pd, ast\n",
    "\n",
    "# Clean \"genres\" column\n",
    "def to_genre_names(x):\n",
    "    if pd.isna(x) or x == \"\" or x == \"[]\":\n",
    "        return []\n",
    "    # If it's a string like \"[{'id': 35, 'name': 'Comedy'}, ...]\" → parse it\n",
    "    if isinstance(x, str):\n",
    "        try:\n",
    "            x = ast.literal_eval(x)\n",
    "        except Exception:\n",
    "            return []\n",
    "    # Now x should be a list of dicts; keep only names\n",
    "    return [d.get(\"name\") for d in x if isinstance(d, dict) and d.get(\"name\")]\n",
    "\n",
    "movies[\"genre_names\"] = movies[\"genres\"].apply(to_genre_names)"
   ]
  },
  {
   "cell_type": "code",
   "execution_count": 39,
   "id": "bb6128ba",
   "metadata": {},
   "outputs": [
    {
     "name": "stdout",
     "output_type": "stream",
     "text": [
      "0     [Animation, Comedy, Family]\n",
      "1    [Adventure, Fantasy, Family]\n",
      "2               [Romance, Comedy]\n",
      "3        [Comedy, Drama, Romance]\n",
      "4                        [Comedy]\n",
      "Name: genre_names, dtype: object\n"
     ]
    }
   ],
   "source": [
    "print(movies[\"genre_names\"].head())"
   ]
  },
  {
   "cell_type": "code",
   "execution_count": 40,
   "id": "9932a6c4",
   "metadata": {},
   "outputs": [
    {
     "name": "stdout",
     "output_type": "stream",
     "text": [
      "There are: 32 unique genres.\n",
      "['Action', 'Adventure', 'Animation', 'Aniplex', 'BROSTA TV', 'Carousel Productions', 'Comedy', 'Crime', 'Documentary', 'Drama', 'Family', 'Fantasy', 'Foreign', 'GoHands', 'History', 'Horror', 'Mardock Scramble Production Committee', 'Music', 'Mystery', 'Odyssey Media', 'Pulser Productions', 'Rogue State', 'Romance', 'Science Fiction', 'Sentai Filmworks', 'TV Movie', 'Telescene Film Group Productions', 'The Cartel', 'Thriller', 'Vision View Entertainment', 'War', 'Western']\n"
     ]
    }
   ],
   "source": [
    "# Explodes the genre_names lists to rows, drops resulting NaNs only in that temporary Series, and returns the sorted set of unique genres without changing the original DataFrame\n",
    "unique_genres = sorted(movies[\"genre_names\"].explode().dropna().unique())\n",
    "print(\"There are:\", len(unique_genres), \"unique genres.\")\n",
    "print(unique_genres)\n"
   ]
  },
  {
   "cell_type": "markdown",
   "id": "0cd3e06c",
   "metadata": {},
   "source": [
    "After examining the unique genres, 12 out of 32 were identified as invalid entries — for example, “Mardock Scramble Production Committee” or “Odyssey Media.”\n",
    "Strategy: Determine how many observations contain these invalid genres.\n",
    "- If the number is small, drop them.\n",
    "- If the number is large, conduct further investigation before deciding."
   ]
  },
  {
   "cell_type": "code",
   "execution_count": 41,
   "id": "caf69060",
   "metadata": {},
   "outputs": [],
   "source": [
    "import pandas as pd\n",
    "import re\n",
    "import ast\n",
    "\n",
    "valid_genres = [\"Action\",\"Adventure\",\"Animation\",\"Comedy\",\"Crime\",\"Documentary\",\"Drama\",\"Family\",\n",
    "    \"Fantasy\",\"Foreign\",\"History\",\"Horror\",\"Music\",\"Mystery\",\"Romance\",\"Science Fiction\",\n",
    "    \"TV Movie\",\"Thriller\",\"War\",\"Western\"]\n",
    "\n",
    "VALID = set(valid_genres)"
   ]
  },
  {
   "cell_type": "code",
   "execution_count": 42,
   "id": "f090719a",
   "metadata": {},
   "outputs": [],
   "source": [
    "def normalize(s: str) -> str:\n",
    "    return re.sub(r\"\\s+\", \" \", str(s)).strip()\n",
    "\n",
    "def to_list_of_names(x):\n",
    "    \"\"\"Return a list[str] of genre names from x (list/dict/string/None).\"\"\"\n",
    "    if x is None or (isinstance(x, float) and pd.isna(x)):\n",
    "        return []\n",
    "    if isinstance(x, list):\n",
    "        out = []\n",
    "        for e in x:\n",
    "            if isinstance(e, dict) and \"name\" in e:\n",
    "                out.append(normalize(e[\"name\"]))\n",
    "            else:\n",
    "                out.append(normalize(e))\n",
    "        return out\n",
    "    if isinstance(x, str):\n",
    "        # try to parse strings like \"[{'id':..., 'name':'Comedy'}, ...]\" or \"['Drama','Comedy']\"\n",
    "        try:\n",
    "            parsed = ast.literal_eval(x)\n",
    "            return to_list_of_names(parsed)\n",
    "        except Exception:\n",
    "            return [normalize(x)]\n",
    "    return [normalize(x)]\n",
    "\n",
    "movies[\"genre_names\"] = movies[\"genre_names\"].apply(to_list_of_names)\n"
   ]
  },
  {
   "cell_type": "code",
   "execution_count": 43,
   "id": "94ae254c",
   "metadata": {},
   "outputs": [
    {
     "name": "stdout",
     "output_type": "stream",
     "text": [
      "Unique labels found: ['Action', 'Adventure', 'Animation', 'Aniplex', 'BROSTA TV', 'Carousel Productions', 'Comedy', 'Crime', 'Documentary', 'Drama', 'Family', 'Fantasy', 'Foreign', 'GoHands', 'History', 'Horror', 'Mardock Scramble Production Committee', 'Music', 'Mystery', 'Odyssey Media', 'Pulser Productions', 'Rogue State', 'Romance', 'Science Fiction', 'Sentai Filmworks', 'TV Movie', 'Telescene Film Group Productions', 'The Cartel', 'Thriller', 'Vision View Entertainment', 'War', 'Western']\n",
      "Invalid labels (vs your valid 20): ['Aniplex', 'BROSTA TV', 'Carousel Productions', 'GoHands', 'Mardock Scramble Production Committee', 'Odyssey Media', 'Pulser Productions', 'Rogue State', 'Sentai Filmworks', 'Telescene Film Group Productions', 'The Cartel', 'Vision View Entertainment']\n"
     ]
    }
   ],
   "source": [
    "unique_genres = sorted({g for lst in movies[\"genre_names\"] for g in lst})\n",
    "print(\"Unique labels found:\", unique_genres)\n",
    "print(\"Invalid labels (vs your valid 20):\", sorted(set(unique_genres) - VALID))\n"
   ]
  },
  {
   "cell_type": "code",
   "execution_count": 44,
   "id": "d7d3b20c",
   "metadata": {},
   "outputs": [
    {
     "data": {
      "text/plain": [
       "genre_names\n",
       "False    45463\n",
       "True         3\n",
       "Name: count, dtype: int64"
      ]
     },
     "execution_count": 44,
     "metadata": {},
     "output_type": "execute_result"
    }
   ],
   "source": [
    "# Flag rows within dataset that have invalid genres\n",
    "has_invalid = movies[\"genre_names\"].apply(lambda lst: any(g not in VALID for g in lst))\n",
    "has_invalid.value_counts(dropna=False)\n"
   ]
  },
  {
   "cell_type": "markdown",
   "id": "f079471c",
   "metadata": {},
   "source": [
    "Fortunately, there are only 3 rows/observations contain invalid genres. Therefore, dropping these 3."
   ]
  },
  {
   "cell_type": "code",
   "execution_count": 45,
   "id": "4669e29b",
   "metadata": {},
   "outputs": [
    {
     "name": "stdout",
     "output_type": "stream",
     "text": [
      "Dropped 3 rows; kept 45463 rows.\n"
     ]
    }
   ],
   "source": [
    "# Drop rows that has invalid genres\n",
    "movies_clean = movies.loc[~has_invalid].copy()\n",
    "print(f\"Dropped {int(has_invalid.sum())} rows; kept {len(movies_clean)} rows.\")\n"
   ]
  },
  {
   "cell_type": "code",
   "execution_count": 46,
   "id": "199d5d90",
   "metadata": {},
   "outputs": [
    {
     "name": "stdout",
     "output_type": "stream",
     "text": [
      "After removing empties: 43021 rows.\n"
     ]
    }
   ],
   "source": [
    "# Drop rows with empty genre lists\n",
    "movies_clean = movies_clean.loc[movies_clean[\"genre_names\"].map(len) > 0].copy()\n",
    "print(f\"After removing empties: {len(movies_clean)} rows.\")"
   ]
  },
  {
   "cell_type": "markdown",
   "id": "898a2147",
   "metadata": {},
   "source": [
    "## Step 2: One-hot encoding"
   ]
  },
  {
   "cell_type": "markdown",
   "id": "21560ff5",
   "metadata": {},
   "source": [
    "After cleaning invalid entries, we need to convert the list of genres (e.g., [Animation, Comedy, Family]) into a numerical format that can be used for clustering or machine learning models.\n",
    "- What is one-hot encoding? One-hot encoding transforms categorical values (like genre names) into binary indicator columns.\n",
    "- In this case, each genre becomes its own column, where: 1 indicates the movie belongs to that genre, and 0 indicates it does not. Example below:\n",
    "\n",
    "    | Movie Title | Animation | Comedy | Family |\n",
    "    |-------------|:---------:|:------:|:------:|\n",
    "    | *Toy Story* (1995) | 1 | 1 | 1 |"
   ]
  },
  {
   "cell_type": "code",
   "execution_count": 47,
   "id": "7eb84ce8",
   "metadata": {},
   "outputs": [],
   "source": [
    "# Drop invalid genre columns if any exist\n",
    "label_set = set(unique_genres)   \n",
    "movies_clean = movies_clean.drop(columns=list(label_set), errors=\"ignore\")\n",
    "\n",
    "# One-hot encode with 20 valid genres\n",
    "s = movies_clean[\"genre_names\"].explode()\n",
    "dummies = (\n",
    "    pd.crosstab(s.index, s)\n",
    "      .clip(upper=1)\n",
    "      .reindex(columns=valid_genres, fill_value=0)\n",
    "      .astype(\"int8\")\n",
    "      .reindex(index=movies_clean.index, fill_value=0)\n",
    ")\n",
    "\n",
    "# Attach the clean dummies\n",
    "movies_clean = movies_clean.join(dummies)\n",
    "\n",
    "# Double-check to ensure no invalid genre columns remain\n",
    "assert not any(col in movies_clean.columns for col in (label_set - set(valid_genres)))\n",
    "\n",
    "# Export\n",
    "movies_clean.to_csv(\"movies_with_genres_onehot.csv\", index=False)"
   ]
  },
  {
   "cell_type": "markdown",
   "id": "b09bd407",
   "metadata": {},
   "source": [
    "## Step 3: Merge 2 datasets"
   ]
  },
  {
   "cell_type": "markdown",
   "id": "d0e93003",
   "metadata": {},
   "source": [
    "At this step, we join the \"movies_clean\" and \"ratings\" datasets using an inner join to keep only rows with matching movie IDs."
   ]
  },
  {
   "cell_type": "code",
   "execution_count": 48,
   "id": "2936b34f",
   "metadata": {},
   "outputs": [],
   "source": [
    "movies_clean[\"id\"] = pd.to_numeric(movies_clean[\"id\"], errors=\"coerce\").astype(\"Int64\")\n",
    "movies_clean[\"id\"].dtype\n",
    "\n",
    "movies_ratings = ratings.merge(movies_clean, left_on=\"movieId\", right_on=\"id\", how=\"inner\")"
   ]
  },
  {
   "cell_type": "code",
   "execution_count": 49,
   "id": "606554ca",
   "metadata": {},
   "outputs": [
    {
     "data": {
      "text/plain": [
       "11382421"
      ]
     },
     "execution_count": 49,
     "metadata": {},
     "output_type": "execute_result"
    }
   ],
   "source": [
    "len(movies_ratings)"
   ]
  },
  {
   "cell_type": "markdown",
   "id": "cfde87e0",
   "metadata": {},
   "source": [
    "There are about 11.3 million individual rating records (each row = one user rating for one movie) in \"movies_ratings\" dataset."
   ]
  },
  {
   "cell_type": "code",
   "execution_count": 50,
   "id": "77f04712",
   "metadata": {},
   "outputs": [],
   "source": [
    "movies_ratings.to_csv(\"movies_ratings.csv\", index=False)"
   ]
  },
  {
   "cell_type": "code",
   "execution_count": 51,
   "id": "94c2299f",
   "metadata": {},
   "outputs": [],
   "source": [
    "movies_ratings.head(200).to_csv(\"movies_ratings_sample.csv\", index=False)"
   ]
  },
  {
   "cell_type": "code",
   "execution_count": 52,
   "id": "cc8d149c",
   "metadata": {},
   "outputs": [
    {
     "data": {
      "text/plain": [
       "265848"
      ]
     },
     "execution_count": 52,
     "metadata": {},
     "output_type": "execute_result"
    }
   ],
   "source": [
    "movies_ratings[\"userId\"].nunique() #There are 265848 users we will analyze"
   ]
  },
  {
   "cell_type": "markdown",
   "id": "8c538962",
   "metadata": {},
   "source": [
    "There are about 266K users unique/distinct users in \"movies_rating\" dataset."
   ]
  },
  {
   "cell_type": "code",
   "execution_count": 53,
   "id": "d38673c7",
   "metadata": {},
   "outputs": [],
   "source": [
    "dataset = movies_ratings.filter(items=[\"userId\",\"movieId\",\"rating\",\"original_title\", \"genre_names\",\n",
    "                                       \"Action\", \"Adventure\", \"Animation\", \"Comedy\", \"Crime\", \"Documentary\", \"Drama\", \"Family\", \"Fantasy\", \"Foreign\",\n",
    "                                       \"History\", \"Horror\", \"Music\", \"Mystery\", \"Romance\", \"Science Fiction\", \"TV Movie\", \"Thriller\", \"War\", \"Western\"]).copy()\n",
    "dataset.head(200).to_csv(\"audience_dataset.csv\", index=False)"
   ]
  },
  {
   "cell_type": "markdown",
   "id": "fc2c0e58",
   "metadata": {},
   "source": [
    "# Feature Engineering"
   ]
  },
  {
   "cell_type": "markdown",
   "id": "483e0a35",
   "metadata": {},
   "source": [
    "## Step 1: Aggregate user-level features - Counts and Average Ratings per Genre"
   ]
  },
  {
   "cell_type": "markdown",
   "id": "62ada556",
   "metadata": {},
   "source": [
    "To represent each user’s viewing behavior and taste, two sets of features (Count and Average Rating) are created from the merged \"movies–ratings\" dataset:  \n",
    "1.  **Count**\n",
    "    - Measures how much a user engages with each genre.\n",
    "    - For every genre, the count feature (cnt_<Genre>) captures the number of titles the user has rated within that genre.  \n",
    "    - Example: A user with cnt_Drama = 14 and cnt_Comedy = 7 has rated 14 drama titles and 7 comedies.  \n",
    "2. **Average Rating**\n",
    "    - Measures how positively a user responds to each genre.  \n",
    "    - The average rating feature (avg_<Genre>) is calculated as the mean rating a user gives to all movies in that genre.  \n",
    "    - Example: avg_Drama = 4.1 suggests that the user tends to enjoy dramas more than other genres.  "
   ]
  },
  {
   "cell_type": "code",
   "execution_count": 54,
   "id": "bb40b5f6",
   "metadata": {},
   "outputs": [],
   "source": [
    "df = dataset.copy()\n",
    "df[\"rating\"] = pd.to_numeric(df[\"rating\"], errors=\"coerce\")\n",
    "\n",
    "# If there can be duplicate ratings per (userId, movieId), de-dupe (optional):\n",
    "# df = df.drop_duplicates(subset=[\"userId\",\"movieId\"], keep=\"last\")\n",
    "\n",
    "valid_genres = [\n",
    "    \"Action\",\"Adventure\",\"Animation\",\"Comedy\",\"Crime\",\"Documentary\",\"Drama\",\"Family\",\n",
    "    \"Fantasy\",\"Foreign\",\"History\",\"Horror\",\"Music\",\"Mystery\",\"Romance\",\n",
    "    \"Science Fiction\",\"TV Movie\",\"Thriller\",\"War\",\"Western\"\n",
    "]\n",
    "genres = [g for g in valid_genres if g in df.columns]\n",
    "\n",
    "# Total movies rated per user\n",
    "total = df.groupby(\"userId\").size().rename(\"total_ratings\")\n",
    "\n",
    "# Counts per genre (sum of 0/1 dummies)\n",
    "cnt = df.groupby(\"userId\")[genres].sum().astype(\"int32\")\n",
    "cnt.columns = [f\"cnt_{g}\" for g in genres]\n",
    "\n",
    "# Average rating per genre = sum(rating * 1{genre}) / count\n",
    "sum_rating = df[genres].multiply(df[\"rating\"], axis=0).groupby(df[\"userId\"]).sum()\n",
    "avg_vals = np.divide(\n",
    "    sum_rating.values,\n",
    "    cnt.values,\n",
    "    out=np.zeros_like(sum_rating.values, dtype=float),\n",
    "    where=cnt.values > 0\n",
    ")\n",
    "avg = pd.DataFrame(avg_vals, index=sum_rating.index, columns=[f\"avg_{g}\" for g in genres])\n",
    "\n",
    "# Final user table\n",
    "user_genre_stats = pd.concat([total, cnt, avg], axis=1).reset_index()\n",
    "\n",
    "# Export file\n",
    "user_genre_stats.to_csv(\"user_genre_stats.csv\", index=False)\n"
   ]
  },
  {
   "cell_type": "code",
   "execution_count": 55,
   "id": "8087db9b",
   "metadata": {},
   "outputs": [],
   "source": [
    "user_genre_stats.describe().to_csv(\"user_genre_stats_summary.csv\")"
   ]
  },
  {
   "cell_type": "code",
   "execution_count": 56,
   "id": "607f6f35",
   "metadata": {},
   "outputs": [],
   "source": [
    "user_df = user_genre_stats.copy()"
   ]
  },
  {
   "cell_type": "markdown",
   "id": "d6428bde",
   "metadata": {},
   "source": [
    "## Step 2: Feature Standardization"
   ]
  },
  {
   "cell_type": "markdown",
   "id": "cf9194f5",
   "metadata": {},
   "source": [
    "After constructing user-level features (genre counts and average ratings), the next step is to standardize them so they are comparable in scale. This ensures that models like K-Means, which rely on Euclidean distance, are not biased toward features with larger numerical ranges.<br>\n",
    "Example: Count features (cnt_<Genre>) can range from 0 to hundreds, while Average rating features (avg_<Genre>) typically range from 0 to 5. Therefore, without scaling, the clustering algorithm would prioritize count features simply because of their magnitude."
   ]
  },
  {
   "cell_type": "code",
   "execution_count": 57,
   "id": "f14a3826",
   "metadata": {},
   "outputs": [],
   "source": [
    "import numpy as np\n",
    "import pandas as pd\n",
    "from sklearn.preprocessing import StandardScaler\n",
    "from sklearn.cluster import KMeans\n",
    "from sklearn.metrics import silhouette_score\n",
    "\n",
    "# 1) Pick features (paired cnt_/avg_ per genre)\n",
    "cnt_cols = [c for c in user_df.columns if c.startswith(\"cnt_\")]\n",
    "avg_cols = [c for c in user_df.columns if c.startswith(\"avg_\")]\n",
    "genres = [c[4:] for c in cnt_cols if f\"avg_{c[4:]}\" in user_df.columns]\n",
    "cnt_cols = [f\"cnt_{g}\" for g in genres]\n",
    "avg_cols = [f\"avg_{g}\" for g in genres]\n",
    "\n",
    "# 2) Build features (separate columns for counts & avgs)\n",
    "X = user_df[cnt_cols + avg_cols].copy()\n",
    "X[cnt_cols] = X[cnt_cols].fillna(0).astype(float)\n",
    "X[avg_cols] = X[avg_cols].fillna(0).astype(float)\n",
    "\n",
    "scaler = StandardScaler()\n",
    "Xs = scaler.fit_transform(X.values)"
   ]
  },
  {
   "cell_type": "code",
   "execution_count": 58,
   "id": "9d15dee8",
   "metadata": {},
   "outputs": [
    {
     "name": "stdout",
     "output_type": "stream",
     "text": [
      "        cnt_Action  cnt_Adventure  cnt_Animation  cnt_Comedy  cnt_Crime  \\\n",
      "0              1.0            0.0            0.0         4.0        1.0   \n",
      "1              4.0            4.0            0.0         5.0        1.0   \n",
      "2              2.0            0.0            0.0         5.0        3.0   \n",
      "3              4.0            3.0            0.0         7.0        4.0   \n",
      "4              3.0            1.0            0.0         2.0        2.0   \n",
      "...            ...            ...            ...         ...        ...   \n",
      "265843         7.0            6.0            0.0        17.0        6.0   \n",
      "265844        11.0           18.0            2.0        23.0       12.0   \n",
      "265845        10.0            7.0            1.0        18.0       11.0   \n",
      "265846         2.0            1.0            0.0         6.0        4.0   \n",
      "265847        22.0           17.0            1.0        40.0       21.0   \n",
      "\n",
      "        cnt_Documentary  cnt_Drama  cnt_Family  cnt_Fantasy  cnt_Foreign  \\\n",
      "0                   1.0        8.0         0.0          0.0          1.0   \n",
      "1                   0.0       10.0         2.0          4.0          0.0   \n",
      "2                   0.0        5.0         0.0          1.0          0.0   \n",
      "3                   1.0       11.0         0.0          3.0          1.0   \n",
      "4                   0.0        6.0         0.0          0.0          0.0   \n",
      "...                 ...        ...         ...          ...          ...   \n",
      "265843              1.0       19.0         3.0          2.0          0.0   \n",
      "265844              1.0       48.0         9.0          4.0          0.0   \n",
      "265845              1.0       34.0         3.0          0.0          1.0   \n",
      "265846              0.0       14.0         0.0          2.0          0.0   \n",
      "265847              5.0       75.0         5.0         11.0          2.0   \n",
      "\n",
      "        cnt_History  cnt_Horror  cnt_Music  cnt_Mystery  cnt_Romance  \\\n",
      "0               0.0         0.0        0.0          1.0          3.0   \n",
      "1               2.0         2.0        1.0          2.0          3.0   \n",
      "2               0.0         0.0        0.0          1.0          3.0   \n",
      "3               0.0         1.0        0.0          2.0          6.0   \n",
      "4               0.0         1.0        0.0          1.0          2.0   \n",
      "...             ...         ...        ...          ...          ...   \n",
      "265843          1.0         2.0        1.0          5.0          7.0   \n",
      "265844          4.0         5.0        4.0         10.0         16.0   \n",
      "265845          3.0         2.0        5.0          6.0         16.0   \n",
      "265846          0.0         1.0        0.0          1.0          5.0   \n",
      "265847          4.0        10.0        8.0         12.0         20.0   \n",
      "\n",
      "        cnt_Science Fiction  cnt_TV Movie  cnt_Thriller  cnt_War  cnt_Western  \n",
      "0                       0.0           0.0           0.0      0.0          0.0  \n",
      "1                       1.0           0.0           2.0      1.0          0.0  \n",
      "2                       1.0           0.0           2.0      0.0          0.0  \n",
      "3                       2.0           0.0           3.0      0.0          2.0  \n",
      "4                       3.0           0.0           4.0      0.0          1.0  \n",
      "...                     ...           ...           ...      ...          ...  \n",
      "265843                  5.0           0.0           6.0      0.0          0.0  \n",
      "265844                 14.0           0.0          24.0      1.0          1.0  \n",
      "265845                  8.0           0.0          16.0      1.0          1.0  \n",
      "265846                  1.0           0.0           6.0      0.0          0.0  \n",
      "265847                 14.0           0.0          28.0      2.0          4.0  \n",
      "\n",
      "[265848 rows x 20 columns]\n"
     ]
    }
   ],
   "source": [
    "print(X[cnt_cols])"
   ]
  },
  {
   "cell_type": "markdown",
   "id": "20294ad5",
   "metadata": {},
   "source": [
    "# Modeling"
   ]
  },
  {
   "cell_type": "markdown",
   "id": "b733fbb7",
   "metadata": {},
   "source": [
    "## Step 1: Determine the optimal number of clusters (k)"
   ]
  },
  {
   "cell_type": "markdown",
   "id": "36737c0f",
   "metadata": {},
   "source": [
    "After preparing standardized user features, the next step is to determine the optimal number of clusters (k) for K-Means. Choosing the right k ensures that the clusters are both distinct and meaningful - not too few (overly broad) or too many (overfitting small differences). To evaluate possible values of k, four complementary methods were applied:  \n",
    "\n",
    "1. Elbow Method\n",
    "2. Silhouette Score\n",
    "3. Calinski–Harabasz Index\n",
    "4. Davies–Bouldin Index"
   ]
  },
  {
   "cell_type": "markdown",
   "id": "c705366d",
   "metadata": {},
   "source": [
    "| Metric                                      | Ideal Direction | Description                                                                                                |\n",
    "| :------------------------------------------ | :-------------- | :--------------------------------------------------------------------------------------------------------- |\n",
    "| **Elbow Method (Inertia / SSE)**            | Lower → Better (look for \"elbow\") | Plots within-cluster variance vs. *k*; the “elbow” point indicates where adding more clusters yields diminishing returns. |\n",
    "| **Silhouette Score (sil)**                  | Higher → Better | Measures how well each sample fits within its cluster vs. other clusters (range: –1 to 1).                 |\n",
    "| **Calinski–Harabasz Index (ch)**            | Higher → Better | Ratio of between-cluster dispersion to within-cluster dispersion; higher means clearer cluster separation. |\n",
    "| **Davies–Bouldin Index (db)**               | Lower → Better  | Average similarity between each cluster and its most similar one; lower means more distinct clusters.      |\n",
    "| **Cluster Size Range (size_min, size_max)** | Balanced        | Helps detect uneven or unstable clustering.                                                                |\n"
   ]
  },
  {
   "cell_type": "code",
   "execution_count": 59,
   "id": "3e5322a4",
   "metadata": {},
   "outputs": [
    {
     "name": "stdout",
     "output_type": "stream",
     "text": [
      "Inertias (SSE) by k: {2: np.float64(7649650.94), 3: np.float64(6220943.53), 4: np.float64(5443196.26), 5: np.float64(4994232.38), 6: np.float64(4713619.55), 7: np.float64(4522126.62), 8: np.float64(4373947.63), 9: np.float64(4239753.93), 10: np.float64(4136356.38)}\n",
      "Suggested k (elbow): 5\n"
     ]
    },
    {
     "data": {
      "image/png": "[encoded data removed]",
      "text/plain": [
       "<Figure size 640x480 with 1 Axes>"
      ]
     },
     "metadata": {},
     "output_type": "display_data"
    }
   ],
   "source": [
    "# 1. Elbow Method\n",
    "\n",
    "import numpy as np\n",
    "import matplotlib.pyplot as plt\n",
    "from sklearn.cluster import KMeans, MiniBatchKMeans\n",
    "\n",
    "# --- Elbow on your standardized features Xs ---\n",
    "use_minibatch = False  # set True for speed on very large data\n",
    "Clusterer = MiniBatchKMeans if use_minibatch else KMeans\n",
    "\n",
    "k_values = list(range(2, 11))\n",
    "inertias = []\n",
    "for k in k_values:\n",
    "    if use_minibatch:\n",
    "        km = Clusterer(n_clusters=k, n_init=5, random_state=0, batch_size=4096, max_iter=100)\n",
    "    else:\n",
    "        km = Clusterer(n_clusters=k, n_init=10, random_state=0, algorithm=\"elkan\")\n",
    "    km.fit(Xs)\n",
    "    inertias.append(km.inertia_)\n",
    "\n",
    "# --- Knee (elbow) detection by max distance to the line between endpoints ---\n",
    "ks = np.array(k_values, dtype=float)\n",
    "sse = np.array(inertias, dtype=float)\n",
    "ks_n  = (ks  - ks.min())  / (ks.max()  - ks.min())\n",
    "sse_n = (sse - sse.min()) / (sse.max() - sse.min())\n",
    "p1, p2 = np.array([ks_n[0], sse_n[0]]), np.array([ks_n[-1], sse_n[-1]])\n",
    "line = p2 - p1\n",
    "norm = np.array([-line[1], line[0]])\n",
    "dists = np.abs((ks_n - p1[0]) * norm[0] + (sse_n - p1[1]) * norm[1]) / np.linalg.norm(norm)\n",
    "k_star = int(ks[np.argmax(dists)])\n",
    "\n",
    "print(\"Inertias (SSE) by k:\", dict(zip(k_values, np.round(inertias, 2))))\n",
    "print(\"Suggested k (elbow):\", k_star)\n",
    "\n",
    "# --- Plot ---\n",
    "plt.figure()\n",
    "plt.plot(k_values, inertias, marker=\"o\")\n",
    "plt.axvline(k_star, linestyle=\"--\")\n",
    "plt.title(\"Elbow plot (inertia vs k)\")\n",
    "plt.xlabel(\"k\"); plt.ylabel(\"Inertia (within-cluster SSE)\")\n",
    "plt.tight_layout()\n",
    "plt.show()"
   ]
  },
  {
   "cell_type": "markdown",
   "id": "fb48d9c7",
   "metadata": {},
   "source": [
    "**Interpretation:**\n",
    "\n",
    "The elbow plot above shows a sharp decrease in within-cluster SSE (inertia) from k = 2 to k = 5, after which the improvement begins to flatten.\n",
    "\n",
    "- From k = 2 → 5, inertia drops significantly (from ~7.6M to ~5.0M).\n",
    "\n",
    "- Beyond k = 5, the reduction in SSE becomes marginal, indicating diminishing returns from adding more clusters."
   ]
  },
  {
   "cell_type": "code",
   "execution_count": 60,
   "id": "773abbee",
   "metadata": {},
   "outputs": [
    {
     "data": {
      "text/plain": [
       "{2: {'sil': 0.49720716772880186,\n",
       "  'ch': 103711.44486051596,\n",
       "  'db': 0.9624116287377927,\n",
       "  'size_min': np.int64(21147),\n",
       "  'size_max': np.int64(244701)},\n",
       " 3: {'sil': 0.20848178875206072,\n",
       "  'ch': 94291.83846222823,\n",
       "  'db': 1.4243130238926387,\n",
       "  'size_min': np.int64(10278),\n",
       "  'size_max': np.int64(146503)},\n",
       " 4: {'sil': 0.18645522507165233,\n",
       "  'ch': 84504.45414623832,\n",
       "  'db': 1.4472461144449076,\n",
       "  'size_min': np.int64(4248),\n",
       "  'size_max': np.int64(131864)},\n",
       " 5: {'sil': 0.1570066672392881,\n",
       "  'ch': 75050.17258035438,\n",
       "  'db': 1.5459421374264533,\n",
       "  'size_min': np.int64(2332),\n",
       "  'size_max': np.int64(114460)},\n",
       " 6: {'sil': 0.14153168773782004,\n",
       "  'ch': 66779.47070426248,\n",
       "  'db': 1.5617105630232837,\n",
       "  'size_min': np.int64(609),\n",
       "  'size_max': np.int64(102191)},\n",
       " 7: {'sil': 0.1182427293673773,\n",
       "  'ch': 59882.09300801461,\n",
       "  'db': 1.7597550385653586,\n",
       "  'size_min': np.int64(417),\n",
       "  'size_max': np.int64(81536)},\n",
       " 8: {'sil': 0.11362631900078704,\n",
       "  'ch': 54352.75817434583,\n",
       "  'db': 1.8073573948602921,\n",
       "  'size_min': np.int64(453),\n",
       "  'size_max': np.int64(72589)}}"
      ]
     },
     "execution_count": 60,
     "metadata": {},
     "output_type": "execute_result"
    }
   ],
   "source": [
    "from sklearn.cluster import KMeans\n",
    "from sklearn.metrics import silhouette_score, calinski_harabasz_score, davies_bouldin_score\n",
    "import numpy as np\n",
    "\n",
    "Ks = range(2,9)\n",
    "metrics = {}\n",
    "for k in Ks:\n",
    "    km = KMeans(n_clusters=k, n_init=10, random_state=0)\n",
    "    lab = km.fit_predict(Xs)  # Xs = your standardized features (counts+avgs)\n",
    "    metrics[k] = {\n",
    "        \"sil\": silhouette_score(Xs, lab, sample_size=min(10000, len(lab)), random_state=0),\n",
    "        \"ch\":  calinski_harabasz_score(Xs, lab),\n",
    "        \"db\":  davies_bouldin_score(Xs, lab),\n",
    "        \"size_min\": np.bincount(lab).min(),\n",
    "        \"size_max\": np.bincount(lab).max(),\n",
    "    }\n",
    "metrics"
   ]
  },
  {
   "cell_type": "markdown",
   "id": "fc406d31",
   "metadata": {},
   "source": [
    "|  k  | Silhouette ↑ |     CH ↑    |   DB ↓   | Comment                                  |\n",
    "| :-: | :----------: | :---------: | :------: | :--------------------------------------- |\n",
    "|  2  |   **0.497**  | **103,711** | **0.96** | Strong separation and compact clusters   |\n",
    "|  3  |     0.208    |    94,292   |   1.42   | Weaker structure                         |\n",
    "|  4  |     0.186    |    84,504   |   1.45   | Further decline in quality               |\n",
    "|  5  |     0.157    |    75,050   |   1.55   | No significant improvement               |\n",
    "| 6–8 |     <0.15    |   <67,000   |   >1.56  | Increasing fragmentation and instability |\n",
    "\n",
    "**Interpretation:**\n",
    "\n",
    "- The silhouette score drops sharply after k = 2, indicating poorer separation as the number of clusters increases.\n",
    "\n",
    "- CH index steadily decreases beyond k = 2, suggesting reduced between-cluster distinctiveness.\n",
    "\n",
    "- DB index rises beyond k = 2, showing increasing overlap between clusters.\n",
    "\n",
    "- Cluster sizes also become highly uneven as k grows (e.g., smallest cluster shrinks from ~21K at k=2 to only ~450 at k=8)."
   ]
  },
  {
   "cell_type": "markdown",
   "id": "95376e20",
   "metadata": {},
   "source": [
    "## Final selection: k = 2\n",
    "To determine the optimal number of clusters (k), both the Elbow Method and multiple internal validation metrics were applied. The elbow plot initially suggested k = 5 based on the point of diminishing returns in inertia (within-cluster SSE). \n",
    "\n",
    "However, further evaluation using Silhouette, Calinski–Harabasz, and Davies–Bouldin scores indicated that the clustering quality is highest at k = 2. Specifically, k = 2 achieved the highest silhouette (0.497), highest CH index (103,711), and lowest DB index (0.96), suggesting the most compact and well-separated clusters. In contrast, higher k values resulted in smaller, less stable clusters with weaker separation.\n",
    "\n",
    "Therefore, despite the elbow method’s geometric indication at k = 5, the combined evidence from internal validation supports k = 2 as the most reliable and interpretable clustering structure for this dataset."
   ]
  },
  {
   "cell_type": "markdown",
   "id": "563bf312",
   "metadata": {},
   "source": [
    "# K-Mean Clustering and Principal Component Analysis for Visualization"
   ]
  },
  {
   "cell_type": "markdown",
   "id": "af1ec3d7",
   "metadata": {},
   "source": [
    "1. **K-Means Clustering**\n",
    "\n",
    "K-Means clustering is an unsupervised learning algorithm that groups data points into k clusters based on similarity in their numerical features. It works by iteratively assigning each observation to the nearest cluster centroid and updating those centroids to minimize within-cluster variance. In this project, K-Means is applied to segment users by counts and average ratings by genres.\n",
    "\n",
    "- Purpose is to identify natural audience segments without predefined labels.\n",
    "\n",
    "- Each cluster represents a group of users who share similar viewing intensity and content taste.\n",
    "\n",
    "- Setting k=2 allows us to distinguish between regular watchers (lower counts, higher ratings) and power users (higher counts, lower ratings).\n",
    "\n",
    "2. **PCA for Visualization**\n",
    "\n",
    "In this analysis, PCA is used only for visualization, not for clustering.\n",
    "\n",
    "- It reduces the many input features to two components (PC1 and PC2) so the clusters can be plotted in 2D space.\n",
    "\n",
    "- PC1 often reflects overall viewing volume or engagement level, while PC2 captures secondary differences such as rating patterns or genre preferences.\n"
   ]
  },
  {
   "cell_type": "markdown",
   "id": "9ae5311f",
   "metadata": {},
   "source": [
    "**PC1** (Volume): separates users by watching frequency, which dominates total variance in behavior.\n",
    "\n",
    "PC1 (49.4% variance) captures overall viewing volume across genres. The top contributing features (cnt_Drama, cnt_Comedy, cnt_Action, cnt_Thriller, and cnt_Romance) all represent view counts, suggesting PC1 reflects how much content a user watches overall, regardless of genre.  **Users with higher PC1 scores are heavier watchers who consume more titles in nearly every genre.**\n",
    "\n",
    "**PC2** (Ratings): adds nuance by reflecting differences in genre-specific satisfaction.\n",
    "\n",
    "PC2 (12.9% variance) captures average rating behavior across genres. The strongest contributors (avg_Action, avg_Adventure, avg_Science Fiction, avg_Thriller, and avg_Crime) are average ratings, indicating PC2 represents how users rate content. **Higher PC2 scores may correspond to users who rate these genres more favorably, while lower scores may reflect users who are more critical or less engaged.**\n"
   ]
  },
  {
   "cell_type": "code",
   "execution_count": 64,
   "id": "b663cd7e",
   "metadata": {},
   "outputs": [
    {
     "data": {
      "image/png": "[encoded data removed]",
      "text/plain": [
       "<Figure size 720x640 with 1 Axes>"
      ]
     },
     "metadata": {},
     "output_type": "display_data"
    }
   ],
   "source": [
    "import numpy as np\n",
    "import matplotlib.pyplot as plt\n",
    "from sklearn.cluster import KMeans\n",
    "from sklearn.decomposition import PCA\n",
    "from matplotlib.lines import Line2D\n",
    "\n",
    "# 1) Fit K-Means on standardized features ---\n",
    "km = KMeans(n_clusters=2, n_init=10, random_state=0, algorithm=\"elkan\").fit(Xs)\n",
    "labels = km.labels_\n",
    "\n",
    "# 2) PCA for visualization only ---\n",
    "pca = PCA(n_components=2, random_state=0)\n",
    "XY = pca.fit_transform(Xs)\n",
    "centers_2d = pca.transform(km.cluster_centers_)\n",
    "var = pca.explained_variance_ratio_       # [pc1, pc2]\n",
    "\n",
    "# 3) Balanced subsample so minority cluster is visible ---\n",
    "rng = np.random.default_rng(0)\n",
    "idxs = []\n",
    "n_per = 40000  # tweak for speed/clarity\n",
    "for k in np.unique(labels):\n",
    "    k_idx = np.where(labels == k)[0]\n",
    "    take = min(n_per, len(k_idx))\n",
    "    idxs.append(rng.choice(k_idx, size=take, replace=False))\n",
    "idx = np.concatenate(idxs)\n",
    "\n",
    "# 4) Plot\n",
    "plt.figure(figsize=(7.2, 6.4))\n",
    "scatter = plt.scatter(\n",
    "    XY[idx, 0], XY[idx, 1],\n",
    "    c=labels[idx], s=6, alpha=0.25, linewidths=0, rasterized=True\n",
    ")\n",
    "\n",
    "plt.scatter(\n",
    "    centers_2d[:, 0], centers_2d[:, 1],\n",
    "    s=160, marker=\"X\", edgecolor=\"black\", linewidths=0.8, zorder=3\n",
    ")\n",
    "\n",
    "plt.title(f\"K-Means (k=2) in PCA space\\nPC1 {var[0]*100:.1f}% • PC2 {var[1]*100:.1f}% variance\")\n",
    "plt.xlabel(\"PC1\")\n",
    "plt.ylabel(\"PC2\")\n",
    "plt.grid(alpha=0.25, linewidth=0.6)\n",
    "\n",
    "# Custom legend\n",
    "handles = [\n",
    "    Line2D([0], [0], marker='X', linestyle='None', label='Cluster Centers', markersize=10, markeredgecolor='black')\n",
    "]\n",
    "plt.legend(handles=handles, frameon=False, loc=\"lower left\")\n",
    "\n",
    "plt.tight_layout()\n",
    "plt.show()"
   ]
  },
  {
   "cell_type": "code",
   "execution_count": 63,
   "id": "5f6e3a33",
   "metadata": {},
   "outputs": [
    {
     "name": "stdout",
     "output_type": "stream",
     "text": [
      "\n",
      "Top 5 features for PC1 (49.39% variance):\n",
      "  cnt_Drama: +0.220\n",
      "  cnt_Comedy: +0.219\n",
      "  cnt_Action: +0.219\n",
      "  cnt_Thriller: +0.218\n",
      "  cnt_Romance: +0.217\n",
      "\n",
      "Top 5 features for PC2 (12.87% variance):\n",
      "  avg_Action: +0.278\n",
      "  avg_Adventure: +0.275\n",
      "  avg_Science Fiction: +0.271\n",
      "  avg_Thriller: +0.266\n",
      "  avg_Crime: +0.263\n"
     ]
    }
   ],
   "source": [
    "import numpy as np\n",
    "\n",
    "# feature names must match the columns order in Xs_balanced: [cnt_cols, avg_cols]\n",
    "feat_names = list(cnt_cols) + list(avg_cols)\n",
    "assert len(feat_names) == pca.components_.shape[1], \"Names must match PCA feature count.\"\n",
    "\n",
    "loadings = pca.components_\n",
    "var_pct = pca.explained_variance_ratio_ * 100\n",
    "feat_names = list(cnt_cols) + list(avg_cols)\n",
    "assert len(feat_names) == loadings.shape[1]\n",
    "\n",
    "for i in range(2):\n",
    "    comp = loadings[i]\n",
    "    top_idx = np.argsort(np.abs(comp))[::-1][:5]\n",
    "    print(f\"\\nTop 5 features for PC{i+1} ({var_pct[i]:.2f}% variance):\")\n",
    "    for j in top_idx:\n",
    "        print(f\"  {feat_names[j]}: {comp[j]:+.3f}\") "
   ]
  },
  {
   "cell_type": "markdown",
   "id": "b26ddaa2",
   "metadata": {},
   "source": [
    "# Result"
   ]
  },
  {
   "cell_type": "markdown",
   "id": "2cc7da58",
   "metadata": {},
   "source": [
    "\n",
    "The clustering reveals two key audience types **Regular Watchers** (Cluster Purple), who value quality and familiarity, and **Power Users** (Cluster Yellow), who value variety and quantity. Tailoring strategies to both groups can enhance overall user satisfaction and platform engagement.\n",
    "\n",
    "**Regular Watchers**\n",
    "\n",
    "1. Who are they? \n",
    "\n",
    "- This group represents the core, steady audience base: viewers who engage regularly but not intensively.\n",
    "\n",
    "2. Behavior:\n",
    "\n",
    "- Users in this cluster have moderate viewing counts across all major genres (Drama, Comedy, Action, etc.).\n",
    "\n",
    "- Their average ratings are balanced and slightly higher, suggesting they are generally satisfied with what they choose to watch.\n",
    "\n",
    "- They tend to watch selectively rather than frequently, indicating more intentional viewing choices.\n",
    "\n",
    "3. Recommendations: (not done yet)\n",
    "\n",
    "**Power Users**\n",
    "\n",
    "1. Who are they? \n",
    "\n",
    "- This group explores diverse content and are more likely to notice quality differences or repetitive recommendations.\n",
    "\n",
    "2. Behavior:\n",
    "\n",
    "- Users show very high viewing counts across nearly all genres, indicating broad and frequent engagement.\n",
    "\n",
    "- Their average ratings tend to be lower or more varied, possibly reflecting exposure to mixed-quality content or more critical evaluation habits.\n",
    "\n",
    "3. Recommendations: (not done yet)"
   ]
  },
  {
   "cell_type": "code",
   "execution_count": 62,
   "id": "2bd385a5",
   "metadata": {},
   "outputs": [
    {
     "data": {
      "image/png": "[encoded data removed]",
      "text/plain": [
       "<Figure size 600x500 with 1 Axes>"
      ]
     },
     "metadata": {},
     "output_type": "display_data"
    }
   ],
   "source": [
    "from sklearn.decomposition import PCA\n",
    "import matplotlib.pyplot as plt\n",
    "\n",
    "kmeans = KMeans(n_clusters=2, n_init=10, random_state=0).fit(Xs)\n",
    "labels = kmeans.labels_\n",
    "\n",
    "pca = PCA(n_components=2, random_state=0)\n",
    "XY = pca.fit_transform(Xs)\n",
    "\n",
    "plt.figure(figsize=(6,5)) \n",
    "plt.scatter(XY[:,0], XY[:,1], c=labels, s=6, alpha=0.3)\n",
    "plt.xlabel(\"PC1\"); plt.ylabel(\"PC2\"); plt.title(\"KMeans (k=2) in PCA space\")\n",
    "plt.show()\n"
   ]
  },
  {
   "cell_type": "code",
   "execution_count": null,
   "id": "6f04ecda",
   "metadata": {},
   "outputs": [
    {
     "name": "stdout",
     "output_type": "stream",
     "text": [
      "\n",
      "Top 5 features for PC1 (49.39% variance):\n",
      "  cnt_Drama: +0.220\n",
      "  cnt_Comedy: +0.219\n",
      "  cnt_Action: +0.219\n",
      "  cnt_Thriller: +0.218\n",
      "  cnt_Romance: +0.217\n",
      "\n",
      "Top 5 features for PC2 (12.87% variance):\n",
      "  avg_Action: +0.278\n",
      "  avg_Adventure: +0.275\n",
      "  avg_Science Fiction: +0.271\n",
      "  avg_Thriller: +0.266\n",
      "  avg_Crime: +0.263\n"
     ]
    }
   ],
   "source": []
  },
  {
   "cell_type": "code",
   "execution_count": 30,
   "id": "99d3ad91",
   "metadata": {},
   "outputs": [
    {
     "data": {
      "image/png": "[encoded data removed]",
      "text/plain": [
       "<Figure size 500x500 with 1 Axes>"
      ]
     },
     "metadata": {},
     "output_type": "display_data"
    }
   ],
   "source": [
    "# Rename the plot\n",
    "plt.figure(figsize=(5,5))\n",
    "plt.scatter(XY[:,0], XY[:,1], c=labels, s=6, alpha=0.3)\n",
    "plt.xlabel(\"PC1 (49.4% var) — overall viewing volume (cnt_*)\"); plt.ylabel(\"PC2 (12.9% var) — avg ratings in Action/Adv/Sci-Fi/Thriller/Crime\"); plt.title(\"KMeans (k=2) on balanced counts+ratings\")\n",
    "plt.show()"
   ]
  },
  {
   "cell_type": "code",
   "execution_count": 31,
   "id": "e27fc3cf",
   "metadata": {},
   "outputs": [
    {
     "name": "stdout",
     "output_type": "stream",
     "text": [
      "cnt_Drama              24.796718\n",
      "cnt_Comedy             12.216455\n",
      "cnt_Thriller           10.886318\n",
      "cnt_Action              8.536382\n",
      "cnt_Romance             7.917419\n",
      "cnt_Crime               7.406292\n",
      "cnt_Adventure           6.022509\n",
      "cnt_Science Fiction     5.222842\n",
      "cnt_Mystery             4.402162\n",
      "cnt_Horror              3.481538\n",
      "cnt_Fantasy             3.238208\n",
      "cnt_Family              2.186479\n",
      "cnt_History             1.697162\n",
      "cnt_Music               1.519293\n",
      "cnt_Documentary         1.164824\n",
      "cnt_Western             0.977386\n",
      "cnt_Animation           0.916385\n",
      "cnt_War                 0.913240\n",
      "cnt_Foreign             0.570710\n",
      "cnt_TV Movie            0.279333\n",
      "dtype: float64\n"
     ]
    }
   ],
   "source": [
    "genre_means = user_df[cnt_cols].mean().sort_values(ascending=False)\n",
    "print(genre_means)"
   ]
  },
  {
   "cell_type": "code",
   "execution_count": 32,
   "id": "4227886b",
   "metadata": {},
   "outputs": [
    {
     "name": "stdout",
     "output_type": "stream",
     "text": [
      "avg_Drama              3.529138\n",
      "avg_Thriller           3.311775\n",
      "avg_Comedy             3.306531\n",
      "avg_Action             3.183697\n",
      "avg_Romance            3.107634\n",
      "avg_Crime              2.976970\n",
      "avg_Adventure          2.902541\n",
      "avg_Mystery            2.861707\n",
      "avg_Science Fiction    2.840746\n",
      "avg_Horror             2.369793\n",
      "avg_Fantasy            2.326204\n",
      "avg_Family             1.994118\n",
      "avg_History            1.889977\n",
      "avg_Music              1.681251\n",
      "avg_Western            1.579029\n",
      "avg_Documentary        1.530508\n",
      "avg_War                1.308914\n",
      "avg_Animation          1.285995\n",
      "avg_Foreign            0.849637\n",
      "avg_TV Movie           0.644064\n",
      "dtype: float64\n"
     ]
    }
   ],
   "source": [
    "rating_means = user_df[avg_cols].mean().sort_values(ascending=False)\n",
    "print(rating_means)"
   ]
  },
  {
   "cell_type": "code",
   "execution_count": 33,
   "id": "d62d7914",
   "metadata": {},
   "outputs": [
    {
     "data": {
      "image/png": "[encoded data removed]",
      "text/plain": [
       "<Figure size 600x500 with 2 Axes>"
      ]
     },
     "metadata": {},
     "output_type": "display_data"
    }
   ],
   "source": [
    "plt.figure(figsize=(6,5))\n",
    "plt.scatter(XY[:,0], XY[:,1], c=labels, cmap=\"Set2\", s=6, alpha=0.35, rasterized=True)\n",
    "plt.xlabel(\"PC1\"); plt.ylabel(\"PC2\"); plt.title(\"KMeans (k=2) on balanced counts+ratings\")\n",
    "cbar = plt.colorbar(ticks=[0,1]); cbar.set_label(\"Cluster\"); cbar.ax.set_yticklabels([\"0\",\"1\"])\n",
    "plt.show()\n"
   ]
  },
  {
   "cell_type": "code",
   "execution_count": 34,
   "id": "8c346a2d",
   "metadata": {},
   "outputs": [
    {
     "data": {
      "text/plain": [
       "count    265848.000000\n",
       "mean         24.796718\n",
       "std          44.017105\n",
       "min           0.000000\n",
       "25%           4.000000\n",
       "50%          10.000000\n",
       "75%          27.000000\n",
       "max        1815.000000\n",
       "Name: cnt_Drama, dtype: float64"
      ]
     },
     "execution_count": 34,
     "metadata": {},
     "output_type": "execute_result"
    }
   ],
   "source": [
    "user_df['cnt_Drama'].describe()"
   ]
  }
 ],
 "metadata": {
  "kernelspec": {
   "display_name": "venv",
   "language": "python",
   "name": "python3"
  },
  "language_info": {
   "codemirror_mode": {
    "name": "ipython",
    "version": 3
   },
   "file_extension": ".py",
   "mimetype": "text/x-python",
   "name": "python",
   "nbconvert_exporter": "python",
   "pygments_lexer": "ipython3",
   "version": "3.11.1"
  }
 },
 "nbformat": 4,
 "nbformat_minor": 5
}
